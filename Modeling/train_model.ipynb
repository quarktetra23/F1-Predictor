{
 "cells": [
  {
   "metadata": {},
   "cell_type": "markdown",
   "source": "# Random Forest Regressor",
   "id": "71a6af242075ae73"
  },
  {
   "cell_type": "code",
   "id": "initial_id",
   "metadata": {
    "collapsed": true,
    "ExecuteTime": {
     "end_time": "2024-12-02T01:54:52.596580Z",
     "start_time": "2024-12-02T01:54:52.592901Z"
    }
   },
   "source": [
    "import requests\n",
    "import pandas as pd\n",
    "from sklearn.model_selection import train_test_split\n",
    "from sklearn.ensemble import RandomForestRegressor\n",
    "from sklearn.metrics import mean_absolute_error\n",
    "from sklearn.metrics import mean_absolute_error, mean_squared_error, r2_score"
   ],
   "outputs": [],
   "execution_count": 48
  },
  {
   "metadata": {
    "ExecuteTime": {
     "end_time": "2024-12-02T01:54:52.626266Z",
     "start_time": "2024-12-02T01:54:52.619025Z"
    }
   },
   "cell_type": "code",
   "source": [
    "# Load driver standings\n",
    "standings_df = pd.read_csv(\"driver_standings.csv\")"
   ],
   "id": "cd3ad9ddc57d9044",
   "outputs": [],
   "execution_count": 49
  },
  {
   "metadata": {
    "ExecuteTime": {
     "end_time": "2024-12-02T01:54:52.666972Z",
     "start_time": "2024-12-02T01:54:52.659437Z"
    }
   },
   "cell_type": "code",
   "source": [
    "# Feature engineering: Create meaningful features\n",
    "standings_df['constructor_encoded'] = standings_df['constructor'].factorize()[0]"
   ],
   "id": "b97299635adde76",
   "outputs": [],
   "execution_count": 50
  },
  {
   "metadata": {
    "ExecuteTime": {
     "end_time": "2024-12-02T01:54:52.700974Z",
     "start_time": "2024-12-02T01:54:52.694055Z"
    }
   },
   "cell_type": "code",
   "source": [
    "# Select features and target\n",
    "features = standings_df[['points', 'wins', 'constructor_encoded']]\n",
    "target = standings_df['position']"
   ],
   "id": "20b57f06875cdf4d",
   "outputs": [],
   "execution_count": 51
  },
  {
   "metadata": {
    "ExecuteTime": {
     "end_time": "2024-12-02T01:54:52.740036Z",
     "start_time": "2024-12-02T01:54:52.730781Z"
    }
   },
   "cell_type": "code",
   "source": [
    "# Split data into training and test sets\n",
    "X_train, X_test, y_train, y_test = train_test_split(features, target, test_size=0.2, random_state=42)"
   ],
   "id": "f12aac78ad011451",
   "outputs": [],
   "execution_count": 52
  },
  {
   "metadata": {
    "ExecuteTime": {
     "end_time": "2024-12-02T01:54:52.864678Z",
     "start_time": "2024-12-02T01:54:52.777353Z"
    }
   },
   "cell_type": "code",
   "source": [
    "# Train a Random Forest Regressor\n",
    "model = RandomForestRegressor(random_state=42, n_estimators=100)\n",
    "model.fit(X_train, y_train)"
   ],
   "id": "43730a62132c7b38",
   "outputs": [
    {
     "data": {
      "text/plain": [
       "RandomForestRegressor(random_state=42)"
      ],
      "text/html": [
       "<style>#sk-container-id-5 {color: black;}#sk-container-id-5 pre{padding: 0;}#sk-container-id-5 div.sk-toggleable {background-color: white;}#sk-container-id-5 label.sk-toggleable__label {cursor: pointer;display: block;width: 100%;margin-bottom: 0;padding: 0.3em;box-sizing: border-box;text-align: center;}#sk-container-id-5 label.sk-toggleable__label-arrow:before {content: \"▸\";float: left;margin-right: 0.25em;color: #696969;}#sk-container-id-5 label.sk-toggleable__label-arrow:hover:before {color: black;}#sk-container-id-5 div.sk-estimator:hover label.sk-toggleable__label-arrow:before {color: black;}#sk-container-id-5 div.sk-toggleable__content {max-height: 0;max-width: 0;overflow: hidden;text-align: left;background-color: #f0f8ff;}#sk-container-id-5 div.sk-toggleable__content pre {margin: 0.2em;color: black;border-radius: 0.25em;background-color: #f0f8ff;}#sk-container-id-5 input.sk-toggleable__control:checked~div.sk-toggleable__content {max-height: 200px;max-width: 100%;overflow: auto;}#sk-container-id-5 input.sk-toggleable__control:checked~label.sk-toggleable__label-arrow:before {content: \"▾\";}#sk-container-id-5 div.sk-estimator input.sk-toggleable__control:checked~label.sk-toggleable__label {background-color: #d4ebff;}#sk-container-id-5 div.sk-label input.sk-toggleable__control:checked~label.sk-toggleable__label {background-color: #d4ebff;}#sk-container-id-5 input.sk-hidden--visually {border: 0;clip: rect(1px 1px 1px 1px);clip: rect(1px, 1px, 1px, 1px);height: 1px;margin: -1px;overflow: hidden;padding: 0;position: absolute;width: 1px;}#sk-container-id-5 div.sk-estimator {font-family: monospace;background-color: #f0f8ff;border: 1px dotted black;border-radius: 0.25em;box-sizing: border-box;margin-bottom: 0.5em;}#sk-container-id-5 div.sk-estimator:hover {background-color: #d4ebff;}#sk-container-id-5 div.sk-parallel-item::after {content: \"\";width: 100%;border-bottom: 1px solid gray;flex-grow: 1;}#sk-container-id-5 div.sk-label:hover label.sk-toggleable__label {background-color: #d4ebff;}#sk-container-id-5 div.sk-serial::before {content: \"\";position: absolute;border-left: 1px solid gray;box-sizing: border-box;top: 0;bottom: 0;left: 50%;z-index: 0;}#sk-container-id-5 div.sk-serial {display: flex;flex-direction: column;align-items: center;background-color: white;padding-right: 0.2em;padding-left: 0.2em;position: relative;}#sk-container-id-5 div.sk-item {position: relative;z-index: 1;}#sk-container-id-5 div.sk-parallel {display: flex;align-items: stretch;justify-content: center;background-color: white;position: relative;}#sk-container-id-5 div.sk-item::before, #sk-container-id-5 div.sk-parallel-item::before {content: \"\";position: absolute;border-left: 1px solid gray;box-sizing: border-box;top: 0;bottom: 0;left: 50%;z-index: -1;}#sk-container-id-5 div.sk-parallel-item {display: flex;flex-direction: column;z-index: 1;position: relative;background-color: white;}#sk-container-id-5 div.sk-parallel-item:first-child::after {align-self: flex-end;width: 50%;}#sk-container-id-5 div.sk-parallel-item:last-child::after {align-self: flex-start;width: 50%;}#sk-container-id-5 div.sk-parallel-item:only-child::after {width: 0;}#sk-container-id-5 div.sk-dashed-wrapped {border: 1px dashed gray;margin: 0 0.4em 0.5em 0.4em;box-sizing: border-box;padding-bottom: 0.4em;background-color: white;}#sk-container-id-5 div.sk-label label {font-family: monospace;font-weight: bold;display: inline-block;line-height: 1.2em;}#sk-container-id-5 div.sk-label-container {text-align: center;}#sk-container-id-5 div.sk-container {/* jupyter's `normalize.less` sets `[hidden] { display: none; }` but bootstrap.min.css set `[hidden] { display: none !important; }` so we also need the `!important` here to be able to override the default hidden behavior on the sphinx rendered scikit-learn.org. See: https://github.com/scikit-learn/scikit-learn/issues/21755 */display: inline-block !important;position: relative;}#sk-container-id-5 div.sk-text-repr-fallback {display: none;}</style><div id=\"sk-container-id-5\" class=\"sk-top-container\"><div class=\"sk-text-repr-fallback\"><pre>RandomForestRegressor(random_state=42)</pre><b>In a Jupyter environment, please rerun this cell to show the HTML representation or trust the notebook. <br />On GitHub, the HTML representation is unable to render, please try loading this page with nbviewer.org.</b></div><div class=\"sk-container\" hidden><div class=\"sk-item\"><div class=\"sk-estimator sk-toggleable\"><input class=\"sk-toggleable__control sk-hidden--visually\" id=\"sk-estimator-id-9\" type=\"checkbox\" checked><label for=\"sk-estimator-id-9\" class=\"sk-toggleable__label sk-toggleable__label-arrow\">RandomForestRegressor</label><div class=\"sk-toggleable__content\"><pre>RandomForestRegressor(random_state=42)</pre></div></div></div></div></div>"
      ]
     },
     "execution_count": 53,
     "metadata": {},
     "output_type": "execute_result"
    }
   ],
   "execution_count": 53
  },
  {
   "metadata": {
    "ExecuteTime": {
     "end_time": "2024-12-02T01:54:52.927558Z",
     "start_time": "2024-12-02T01:54:52.913229Z"
    }
   },
   "cell_type": "code",
   "source": [
    "# Make predictions on test data\n",
    "predictions = model.predict(X_test)"
   ],
   "id": "6698603d635f725b",
   "outputs": [],
   "execution_count": 54
  },
  {
   "metadata": {
    "ExecuteTime": {
     "end_time": "2024-12-02T01:54:53.005490Z",
     "start_time": "2024-12-02T01:54:52.999421Z"
    }
   },
   "cell_type": "code",
   "source": [
    "# Evaluate the model\n",
    "mae = mean_absolute_error(y_test, predictions)\n",
    "print(f\"Mean Absolute Error on Test Data: {mae}\")"
   ],
   "id": "932c27b6f5470531",
   "outputs": [
    {
     "name": "stdout",
     "output_type": "stream",
     "text": [
      "Mean Absolute Error on Test Data: 1.6179999999999999\n"
     ]
    }
   ],
   "execution_count": 55
  },
  {
   "metadata": {
    "ExecuteTime": {
     "end_time": "2024-12-02T01:54:53.060798Z",
     "start_time": "2024-12-02T01:54:53.049967Z"
    }
   },
   "cell_type": "code",
   "source": [
    "# Prepare data for Abu Dhabi GP prediction\n",
    "abu_dhabi_features = standings_df[['points', 'wins', 'constructor_encoded']]\n",
    "abu_dhabi_predictions = model.predict(abu_dhabi_features)"
   ],
   "id": "5bf624b2378c7f70",
   "outputs": [],
   "execution_count": 56
  },
  {
   "metadata": {
    "ExecuteTime": {
     "end_time": "2024-12-02T01:54:53.102485Z",
     "start_time": "2024-12-02T01:54:53.098476Z"
    }
   },
   "cell_type": "code",
   "source": [
    "# Add predictions to the DataFrame\n",
    "standings_df['predicted_score'] = abu_dhabi_predictions"
   ],
   "id": "e5a5d1f04b0c4ff4",
   "outputs": [],
   "execution_count": 57
  },
  {
   "metadata": {
    "ExecuteTime": {
     "end_time": "2024-12-02T01:54:53.147782Z",
     "start_time": "2024-12-02T01:54:53.142534Z"
    }
   },
   "cell_type": "code",
   "source": [
    "# Assign distinct integer positions by sorting predicted scores\n",
    "standings_df = standings_df.sort_values(by='predicted_score', ascending=True).reset_index(drop=True)\n",
    "standings_df['predicted_position'] = standings_df.index + 1  # Rank positions from 1 onwards"
   ],
   "id": "ac495afeb1b4b9f1",
   "outputs": [],
   "execution_count": 58
  },
  {
   "metadata": {
    "ExecuteTime": {
     "end_time": "2024-12-02T01:54:53.186950Z",
     "start_time": "2024-12-02T01:54:53.180452Z"
    }
   },
   "cell_type": "code",
   "source": [
    "# Save predictions with distinct positions\n",
    "standings_df.to_csv(\"abu_dhabi_predictions.csv\", index=False)\n",
    "print(\"Saved Abu Dhabi predictions to 'abu_dhabi_predictions.csv'\")"
   ],
   "id": "508de894e95410a6",
   "outputs": [
    {
     "name": "stdout",
     "output_type": "stream",
     "text": [
      "Saved Abu Dhabi predictions to 'abu_dhabi_predictions.csv'\n"
     ]
    }
   ],
   "execution_count": 59
  },
  {
   "metadata": {
    "ExecuteTime": {
     "end_time": "2024-12-02T01:54:53.262687Z",
     "start_time": "2024-12-02T01:54:53.251872Z"
    }
   },
   "cell_type": "code",
   "source": [
    "# Display the contents of a CSV file\n",
    "df = pd.read_csv(\"abu_dhabi_predictions.csv\")\n",
    "print(df)  # Print the table as plain text"
   ],
   "id": "c37000b668401849",
   "outputs": [
    {
     "name": "stdout",
     "output_type": "stream",
     "text": [
      "          driver_id  position  points  wins     constructor  \\\n",
      "0            norris         2   349.0     3         McLaren   \n",
      "1    max_verstappen         1   429.0     9        Red Bull   \n",
      "2           leclerc         3   341.0     3         Ferrari   \n",
      "3           piastri         4   291.0     2         McLaren   \n",
      "4             sainz         5   272.0     2         Ferrari   \n",
      "5           russell         6   235.0     2        Mercedes   \n",
      "6          hamilton         7   211.0     2        Mercedes   \n",
      "7             perez         8   152.0     0        Red Bull   \n",
      "8            alonso         9    68.0     0    Aston Martin   \n",
      "9        hulkenberg        10    37.0     0    Haas F1 Team   \n",
      "10            gasly        11    36.0     0  Alpine F1 Team   \n",
      "11          tsunoda        12    30.0     0      RB F1 Team   \n",
      "12           stroll        13    24.0     0    Aston Martin   \n",
      "13             ocon        14    23.0     0  Alpine F1 Team   \n",
      "14  kevin_magnussen        15    16.0     0    Haas F1 Team   \n",
      "15        ricciardo        17    12.0     0      RB F1 Team   \n",
      "16          bearman        18     7.0     0         Ferrari   \n",
      "17            albon        16    12.0     0        Williams   \n",
      "18        colapinto        19     5.0     0        Williams   \n",
      "19           lawson        21     4.0     0      RB F1 Team   \n",
      "20             zhou        20     4.0     0          Sauber   \n",
      "21           bottas        22     0.0     0          Sauber   \n",
      "22         sargeant        23     0.0     0        Williams   \n",
      "\n",
      "    constructor_encoded  predicted_score  predicted_position  \n",
      "0                     1             2.65                   1  \n",
      "1                     0             2.74                   2  \n",
      "2                     2             3.06                   3  \n",
      "3                     1             4.24                   4  \n",
      "4                     2             4.70                   5  \n",
      "5                     3             6.22                   6  \n",
      "6                     3             6.67                   7  \n",
      "7                     0             8.05                   8  \n",
      "8                     4            11.17                   9  \n",
      "9                     5            11.79                  10  \n",
      "10                    6            11.79                  11  \n",
      "11                    7            12.81                  12  \n",
      "12                    4            12.85                  13  \n",
      "13                    6            13.73                  14  \n",
      "14                    5            15.19                  15  \n",
      "15                    7            16.67                  16  \n",
      "16                    2            16.87                  17  \n",
      "17                    8            17.26                  18  \n",
      "18                    8            19.66                  19  \n",
      "19                    7            19.97                  20  \n",
      "20                    9            20.32                  21  \n",
      "21                    9            21.97                  22  \n",
      "22                    8            22.23                  23  \n"
     ]
    }
   ],
   "execution_count": 60
  },
  {
   "metadata": {
    "ExecuteTime": {
     "end_time": "2024-12-02T01:54:53.294023Z",
     "start_time": "2024-12-02T01:54:53.288370Z"
    }
   },
   "cell_type": "code",
   "source": [
    "# Evaluate model on test data\n",
    "mae = mean_absolute_error(y_test, predictions)\n",
    "mse = mean_squared_error(y_test, predictions)\n",
    "r2 = r2_score(y_test, predictions)\n",
    "\n",
    "# Print evaluation metrics\n",
    "print(f\"Mean Absolute Error (MAE): {mae}\")\n",
    "print(f\"Mean Squared Error (MSE): {mse}\")\n",
    "print(f\"R² Score: {r2}\")\n"
   ],
   "id": "a1a9b3021a755604",
   "outputs": [
    {
     "name": "stdout",
     "output_type": "stream",
     "text": [
      "Mean Absolute Error (MAE): 1.6179999999999999\n",
      "Mean Squared Error (MSE): 2.76102\n",
      "R² Score: 0.9227902684563758\n"
     ]
    }
   ],
   "execution_count": 61
  },
  {
   "metadata": {},
   "cell_type": "markdown",
   "source": "# Gradient Boosting Regressor",
   "id": "ff0472f57d993f62"
  },
  {
   "metadata": {
    "ExecuteTime": {
     "end_time": "2024-12-02T01:54:53.340026Z",
     "start_time": "2024-12-02T01:54:53.336153Z"
    }
   },
   "cell_type": "code",
   "source": "from sklearn.ensemble import GradientBoostingRegressor",
   "id": "9e0564837bde1158",
   "outputs": [],
   "execution_count": 62
  },
  {
   "metadata": {
    "ExecuteTime": {
     "end_time": "2024-12-02T01:54:53.423391Z",
     "start_time": "2024-12-02T01:54:53.381082Z"
    }
   },
   "cell_type": "code",
   "source": [
    "# STEP 1: Train Gradient Boosting Regressor\n",
    "gradient_boosting_model = GradientBoostingRegressor(random_state=42, n_estimators=100, learning_rate=0.1)\n",
    "gradient_boosting_model.fit(X_train, y_train)"
   ],
   "id": "3ec8cea8714bc5a",
   "outputs": [
    {
     "data": {
      "text/plain": [
       "GradientBoostingRegressor(random_state=42)"
      ],
      "text/html": [
       "<style>#sk-container-id-6 {color: black;}#sk-container-id-6 pre{padding: 0;}#sk-container-id-6 div.sk-toggleable {background-color: white;}#sk-container-id-6 label.sk-toggleable__label {cursor: pointer;display: block;width: 100%;margin-bottom: 0;padding: 0.3em;box-sizing: border-box;text-align: center;}#sk-container-id-6 label.sk-toggleable__label-arrow:before {content: \"▸\";float: left;margin-right: 0.25em;color: #696969;}#sk-container-id-6 label.sk-toggleable__label-arrow:hover:before {color: black;}#sk-container-id-6 div.sk-estimator:hover label.sk-toggleable__label-arrow:before {color: black;}#sk-container-id-6 div.sk-toggleable__content {max-height: 0;max-width: 0;overflow: hidden;text-align: left;background-color: #f0f8ff;}#sk-container-id-6 div.sk-toggleable__content pre {margin: 0.2em;color: black;border-radius: 0.25em;background-color: #f0f8ff;}#sk-container-id-6 input.sk-toggleable__control:checked~div.sk-toggleable__content {max-height: 200px;max-width: 100%;overflow: auto;}#sk-container-id-6 input.sk-toggleable__control:checked~label.sk-toggleable__label-arrow:before {content: \"▾\";}#sk-container-id-6 div.sk-estimator input.sk-toggleable__control:checked~label.sk-toggleable__label {background-color: #d4ebff;}#sk-container-id-6 div.sk-label input.sk-toggleable__control:checked~label.sk-toggleable__label {background-color: #d4ebff;}#sk-container-id-6 input.sk-hidden--visually {border: 0;clip: rect(1px 1px 1px 1px);clip: rect(1px, 1px, 1px, 1px);height: 1px;margin: -1px;overflow: hidden;padding: 0;position: absolute;width: 1px;}#sk-container-id-6 div.sk-estimator {font-family: monospace;background-color: #f0f8ff;border: 1px dotted black;border-radius: 0.25em;box-sizing: border-box;margin-bottom: 0.5em;}#sk-container-id-6 div.sk-estimator:hover {background-color: #d4ebff;}#sk-container-id-6 div.sk-parallel-item::after {content: \"\";width: 100%;border-bottom: 1px solid gray;flex-grow: 1;}#sk-container-id-6 div.sk-label:hover label.sk-toggleable__label {background-color: #d4ebff;}#sk-container-id-6 div.sk-serial::before {content: \"\";position: absolute;border-left: 1px solid gray;box-sizing: border-box;top: 0;bottom: 0;left: 50%;z-index: 0;}#sk-container-id-6 div.sk-serial {display: flex;flex-direction: column;align-items: center;background-color: white;padding-right: 0.2em;padding-left: 0.2em;position: relative;}#sk-container-id-6 div.sk-item {position: relative;z-index: 1;}#sk-container-id-6 div.sk-parallel {display: flex;align-items: stretch;justify-content: center;background-color: white;position: relative;}#sk-container-id-6 div.sk-item::before, #sk-container-id-6 div.sk-parallel-item::before {content: \"\";position: absolute;border-left: 1px solid gray;box-sizing: border-box;top: 0;bottom: 0;left: 50%;z-index: -1;}#sk-container-id-6 div.sk-parallel-item {display: flex;flex-direction: column;z-index: 1;position: relative;background-color: white;}#sk-container-id-6 div.sk-parallel-item:first-child::after {align-self: flex-end;width: 50%;}#sk-container-id-6 div.sk-parallel-item:last-child::after {align-self: flex-start;width: 50%;}#sk-container-id-6 div.sk-parallel-item:only-child::after {width: 0;}#sk-container-id-6 div.sk-dashed-wrapped {border: 1px dashed gray;margin: 0 0.4em 0.5em 0.4em;box-sizing: border-box;padding-bottom: 0.4em;background-color: white;}#sk-container-id-6 div.sk-label label {font-family: monospace;font-weight: bold;display: inline-block;line-height: 1.2em;}#sk-container-id-6 div.sk-label-container {text-align: center;}#sk-container-id-6 div.sk-container {/* jupyter's `normalize.less` sets `[hidden] { display: none; }` but bootstrap.min.css set `[hidden] { display: none !important; }` so we also need the `!important` here to be able to override the default hidden behavior on the sphinx rendered scikit-learn.org. See: https://github.com/scikit-learn/scikit-learn/issues/21755 */display: inline-block !important;position: relative;}#sk-container-id-6 div.sk-text-repr-fallback {display: none;}</style><div id=\"sk-container-id-6\" class=\"sk-top-container\"><div class=\"sk-text-repr-fallback\"><pre>GradientBoostingRegressor(random_state=42)</pre><b>In a Jupyter environment, please rerun this cell to show the HTML representation or trust the notebook. <br />On GitHub, the HTML representation is unable to render, please try loading this page with nbviewer.org.</b></div><div class=\"sk-container\" hidden><div class=\"sk-item\"><div class=\"sk-estimator sk-toggleable\"><input class=\"sk-toggleable__control sk-hidden--visually\" id=\"sk-estimator-id-10\" type=\"checkbox\" checked><label for=\"sk-estimator-id-10\" class=\"sk-toggleable__label sk-toggleable__label-arrow\">GradientBoostingRegressor</label><div class=\"sk-toggleable__content\"><pre>GradientBoostingRegressor(random_state=42)</pre></div></div></div></div></div>"
      ]
     },
     "execution_count": 63,
     "metadata": {},
     "output_type": "execute_result"
    }
   ],
   "execution_count": 63
  },
  {
   "metadata": {
    "ExecuteTime": {
     "end_time": "2024-12-02T01:54:53.473428Z",
     "start_time": "2024-12-02T01:54:53.466048Z"
    }
   },
   "cell_type": "code",
   "source": [
    "# STEP 2: Make Predictions\n",
    "gb_predictions = gradient_boosting_model.predict(X_test)"
   ],
   "id": "9b162cf74fa979b7",
   "outputs": [],
   "execution_count": 64
  },
  {
   "metadata": {
    "ExecuteTime": {
     "end_time": "2024-12-02T01:54:53.513555Z",
     "start_time": "2024-12-02T01:54:53.508310Z"
    }
   },
   "cell_type": "code",
   "source": [
    "# STEP 3: Evaluate Gradient Boosting Regressor\n",
    "gb_mae = mean_absolute_error(y_test, gb_predictions)\n",
    "gb_mse = mean_squared_error(y_test, gb_predictions)\n",
    "gb_r2 = r2_score(y_test, gb_predictions)"
   ],
   "id": "2e430f63aea30a9a",
   "outputs": [],
   "execution_count": 65
  },
  {
   "metadata": {
    "ExecuteTime": {
     "end_time": "2024-12-02T01:54:53.552708Z",
     "start_time": "2024-12-02T01:54:53.547356Z"
    }
   },
   "cell_type": "code",
   "source": [
    "# STEP 4: Predict for Abu Dhabi GP\n",
    "abu_dhabi_gb_predictions = gradient_boosting_model.predict(abu_dhabi_features)"
   ],
   "id": "c03a7057080e0a19",
   "outputs": [],
   "execution_count": 66
  },
  {
   "metadata": {
    "ExecuteTime": {
     "end_time": "2024-12-02T01:54:53.593257Z",
     "start_time": "2024-12-02T01:54:53.585877Z"
    }
   },
   "cell_type": "code",
   "source": [
    "# Save predictions\n",
    "standings_df['gb_predicted_score'] = abu_dhabi_gb_predictions\n",
    "standings_df = standings_df.sort_values(by='gb_predicted_score', ascending=True).reset_index(drop=True)\n",
    "standings_df['gb_predicted_position'] = standings_df.index + 1\n",
    "standings_df.to_csv(\"abu_dhabi_gb_predictions.csv\", index=False)\n",
    "print(\"Saved Abu Dhabi predictions using Gradient Boosting to 'abu_dhabi_gb_predictions.csv'\")"
   ],
   "id": "a26925fee882d016",
   "outputs": [
    {
     "name": "stdout",
     "output_type": "stream",
     "text": [
      "Saved Abu Dhabi predictions using Gradient Boosting to 'abu_dhabi_gb_predictions.csv'\n"
     ]
    }
   ],
   "execution_count": 67
  },
  {
   "metadata": {
    "ExecuteTime": {
     "end_time": "2024-12-02T01:54:53.639185Z",
     "start_time": "2024-12-02T01:54:53.628739Z"
    }
   },
   "cell_type": "code",
   "source": [
    "# Display the contents of a CSV file\n",
    "df = pd.read_csv(\"abu_dhabi_predictions.csv\")\n",
    "print(df)  # Print the table as plain text"
   ],
   "id": "ad5652052944d759",
   "outputs": [
    {
     "name": "stdout",
     "output_type": "stream",
     "text": [
      "          driver_id  position  points  wins     constructor  \\\n",
      "0            norris         2   349.0     3         McLaren   \n",
      "1    max_verstappen         1   429.0     9        Red Bull   \n",
      "2           leclerc         3   341.0     3         Ferrari   \n",
      "3           piastri         4   291.0     2         McLaren   \n",
      "4             sainz         5   272.0     2         Ferrari   \n",
      "5           russell         6   235.0     2        Mercedes   \n",
      "6          hamilton         7   211.0     2        Mercedes   \n",
      "7             perez         8   152.0     0        Red Bull   \n",
      "8            alonso         9    68.0     0    Aston Martin   \n",
      "9        hulkenberg        10    37.0     0    Haas F1 Team   \n",
      "10            gasly        11    36.0     0  Alpine F1 Team   \n",
      "11          tsunoda        12    30.0     0      RB F1 Team   \n",
      "12           stroll        13    24.0     0    Aston Martin   \n",
      "13             ocon        14    23.0     0  Alpine F1 Team   \n",
      "14  kevin_magnussen        15    16.0     0    Haas F1 Team   \n",
      "15        ricciardo        17    12.0     0      RB F1 Team   \n",
      "16          bearman        18     7.0     0         Ferrari   \n",
      "17            albon        16    12.0     0        Williams   \n",
      "18        colapinto        19     5.0     0        Williams   \n",
      "19           lawson        21     4.0     0      RB F1 Team   \n",
      "20             zhou        20     4.0     0          Sauber   \n",
      "21           bottas        22     0.0     0          Sauber   \n",
      "22         sargeant        23     0.0     0        Williams   \n",
      "\n",
      "    constructor_encoded  predicted_score  predicted_position  \n",
      "0                     1             2.65                   1  \n",
      "1                     0             2.74                   2  \n",
      "2                     2             3.06                   3  \n",
      "3                     1             4.24                   4  \n",
      "4                     2             4.70                   5  \n",
      "5                     3             6.22                   6  \n",
      "6                     3             6.67                   7  \n",
      "7                     0             8.05                   8  \n",
      "8                     4            11.17                   9  \n",
      "9                     5            11.79                  10  \n",
      "10                    6            11.79                  11  \n",
      "11                    7            12.81                  12  \n",
      "12                    4            12.85                  13  \n",
      "13                    6            13.73                  14  \n",
      "14                    5            15.19                  15  \n",
      "15                    7            16.67                  16  \n",
      "16                    2            16.87                  17  \n",
      "17                    8            17.26                  18  \n",
      "18                    8            19.66                  19  \n",
      "19                    7            19.97                  20  \n",
      "20                    9            20.32                  21  \n",
      "21                    9            21.97                  22  \n",
      "22                    8            22.23                  23  \n"
     ]
    }
   ],
   "execution_count": 68
  },
  {
   "metadata": {
    "ExecuteTime": {
     "end_time": "2024-12-02T01:54:53.687529Z",
     "start_time": "2024-12-02T01:54:53.683934Z"
    }
   },
   "cell_type": "code",
   "source": [
    "# Print evaluation metrics\n",
    "print(f\"Mean Absolute Error (MAE): {gb_mae}\")\n",
    "print(f\"Mean Squared Error (MSE): {gb_mse}\")\n",
    "print(f\"R² Score: {r2}\")"
   ],
   "id": "3a78f94ed8c6773c",
   "outputs": [
    {
     "name": "stdout",
     "output_type": "stream",
     "text": [
      "Mean Absolute Error (MAE): 0.9800910027412314\n",
      "Mean Squared Error (MSE): 1.0237685709689173\n",
      "R² Score: 0.9227902684563758\n"
     ]
    }
   ],
   "execution_count": 69
  },
  {
   "metadata": {},
   "cell_type": "markdown",
   "source": "## Support Vector Regression",
   "id": "350e0e0bc37740d4"
  },
  {
   "metadata": {
    "ExecuteTime": {
     "end_time": "2024-12-02T01:54:53.727307Z",
     "start_time": "2024-12-02T01:54:53.724117Z"
    }
   },
   "cell_type": "code",
   "source": [
    "from sklearn.svm import SVR\n",
    "from sklearn.preprocessing import StandardScaler\n",
    "from sklearn.pipeline import make_pipeline"
   ],
   "id": "67daa7d131cd23fc",
   "outputs": [],
   "execution_count": 70
  },
  {
   "metadata": {
    "ExecuteTime": {
     "end_time": "2024-12-02T01:54:53.780505Z",
     "start_time": "2024-12-02T01:54:53.777369Z"
    }
   },
   "cell_type": "code",
   "source": [
    "# STEP 1: Scale Features and Initialize SVR\n",
    "# SVR benefits from scaled data, so we use StandardScaler with SVR\n",
    "svr_model = make_pipeline(StandardScaler(), SVR(kernel='rbf', C=1.0, epsilon=0.1))"
   ],
   "id": "921e4e0c6f5b87a",
   "outputs": [],
   "execution_count": 71
  },
  {
   "metadata": {
    "ExecuteTime": {
     "end_time": "2024-12-02T01:54:53.834704Z",
     "start_time": "2024-12-02T01:54:53.819808Z"
    }
   },
   "cell_type": "code",
   "source": [
    "# STEP 2: Train the SVR Model\n",
    "svr_model.fit(X_train, y_train)"
   ],
   "id": "1daffa6bf20a3238",
   "outputs": [
    {
     "data": {
      "text/plain": [
       "Pipeline(steps=[('standardscaler', StandardScaler()), ('svr', SVR())])"
      ],
      "text/html": [
       "<style>#sk-container-id-7 {color: black;}#sk-container-id-7 pre{padding: 0;}#sk-container-id-7 div.sk-toggleable {background-color: white;}#sk-container-id-7 label.sk-toggleable__label {cursor: pointer;display: block;width: 100%;margin-bottom: 0;padding: 0.3em;box-sizing: border-box;text-align: center;}#sk-container-id-7 label.sk-toggleable__label-arrow:before {content: \"▸\";float: left;margin-right: 0.25em;color: #696969;}#sk-container-id-7 label.sk-toggleable__label-arrow:hover:before {color: black;}#sk-container-id-7 div.sk-estimator:hover label.sk-toggleable__label-arrow:before {color: black;}#sk-container-id-7 div.sk-toggleable__content {max-height: 0;max-width: 0;overflow: hidden;text-align: left;background-color: #f0f8ff;}#sk-container-id-7 div.sk-toggleable__content pre {margin: 0.2em;color: black;border-radius: 0.25em;background-color: #f0f8ff;}#sk-container-id-7 input.sk-toggleable__control:checked~div.sk-toggleable__content {max-height: 200px;max-width: 100%;overflow: auto;}#sk-container-id-7 input.sk-toggleable__control:checked~label.sk-toggleable__label-arrow:before {content: \"▾\";}#sk-container-id-7 div.sk-estimator input.sk-toggleable__control:checked~label.sk-toggleable__label {background-color: #d4ebff;}#sk-container-id-7 div.sk-label input.sk-toggleable__control:checked~label.sk-toggleable__label {background-color: #d4ebff;}#sk-container-id-7 input.sk-hidden--visually {border: 0;clip: rect(1px 1px 1px 1px);clip: rect(1px, 1px, 1px, 1px);height: 1px;margin: -1px;overflow: hidden;padding: 0;position: absolute;width: 1px;}#sk-container-id-7 div.sk-estimator {font-family: monospace;background-color: #f0f8ff;border: 1px dotted black;border-radius: 0.25em;box-sizing: border-box;margin-bottom: 0.5em;}#sk-container-id-7 div.sk-estimator:hover {background-color: #d4ebff;}#sk-container-id-7 div.sk-parallel-item::after {content: \"\";width: 100%;border-bottom: 1px solid gray;flex-grow: 1;}#sk-container-id-7 div.sk-label:hover label.sk-toggleable__label {background-color: #d4ebff;}#sk-container-id-7 div.sk-serial::before {content: \"\";position: absolute;border-left: 1px solid gray;box-sizing: border-box;top: 0;bottom: 0;left: 50%;z-index: 0;}#sk-container-id-7 div.sk-serial {display: flex;flex-direction: column;align-items: center;background-color: white;padding-right: 0.2em;padding-left: 0.2em;position: relative;}#sk-container-id-7 div.sk-item {position: relative;z-index: 1;}#sk-container-id-7 div.sk-parallel {display: flex;align-items: stretch;justify-content: center;background-color: white;position: relative;}#sk-container-id-7 div.sk-item::before, #sk-container-id-7 div.sk-parallel-item::before {content: \"\";position: absolute;border-left: 1px solid gray;box-sizing: border-box;top: 0;bottom: 0;left: 50%;z-index: -1;}#sk-container-id-7 div.sk-parallel-item {display: flex;flex-direction: column;z-index: 1;position: relative;background-color: white;}#sk-container-id-7 div.sk-parallel-item:first-child::after {align-self: flex-end;width: 50%;}#sk-container-id-7 div.sk-parallel-item:last-child::after {align-self: flex-start;width: 50%;}#sk-container-id-7 div.sk-parallel-item:only-child::after {width: 0;}#sk-container-id-7 div.sk-dashed-wrapped {border: 1px dashed gray;margin: 0 0.4em 0.5em 0.4em;box-sizing: border-box;padding-bottom: 0.4em;background-color: white;}#sk-container-id-7 div.sk-label label {font-family: monospace;font-weight: bold;display: inline-block;line-height: 1.2em;}#sk-container-id-7 div.sk-label-container {text-align: center;}#sk-container-id-7 div.sk-container {/* jupyter's `normalize.less` sets `[hidden] { display: none; }` but bootstrap.min.css set `[hidden] { display: none !important; }` so we also need the `!important` here to be able to override the default hidden behavior on the sphinx rendered scikit-learn.org. See: https://github.com/scikit-learn/scikit-learn/issues/21755 */display: inline-block !important;position: relative;}#sk-container-id-7 div.sk-text-repr-fallback {display: none;}</style><div id=\"sk-container-id-7\" class=\"sk-top-container\"><div class=\"sk-text-repr-fallback\"><pre>Pipeline(steps=[(&#x27;standardscaler&#x27;, StandardScaler()), (&#x27;svr&#x27;, SVR())])</pre><b>In a Jupyter environment, please rerun this cell to show the HTML representation or trust the notebook. <br />On GitHub, the HTML representation is unable to render, please try loading this page with nbviewer.org.</b></div><div class=\"sk-container\" hidden><div class=\"sk-item sk-dashed-wrapped\"><div class=\"sk-label-container\"><div class=\"sk-label sk-toggleable\"><input class=\"sk-toggleable__control sk-hidden--visually\" id=\"sk-estimator-id-11\" type=\"checkbox\" ><label for=\"sk-estimator-id-11\" class=\"sk-toggleable__label sk-toggleable__label-arrow\">Pipeline</label><div class=\"sk-toggleable__content\"><pre>Pipeline(steps=[(&#x27;standardscaler&#x27;, StandardScaler()), (&#x27;svr&#x27;, SVR())])</pre></div></div></div><div class=\"sk-serial\"><div class=\"sk-item\"><div class=\"sk-estimator sk-toggleable\"><input class=\"sk-toggleable__control sk-hidden--visually\" id=\"sk-estimator-id-12\" type=\"checkbox\" ><label for=\"sk-estimator-id-12\" class=\"sk-toggleable__label sk-toggleable__label-arrow\">StandardScaler</label><div class=\"sk-toggleable__content\"><pre>StandardScaler()</pre></div></div></div><div class=\"sk-item\"><div class=\"sk-estimator sk-toggleable\"><input class=\"sk-toggleable__control sk-hidden--visually\" id=\"sk-estimator-id-13\" type=\"checkbox\" ><label for=\"sk-estimator-id-13\" class=\"sk-toggleable__label sk-toggleable__label-arrow\">SVR</label><div class=\"sk-toggleable__content\"><pre>SVR()</pre></div></div></div></div></div></div></div>"
      ]
     },
     "execution_count": 72,
     "metadata": {},
     "output_type": "execute_result"
    }
   ],
   "execution_count": 72
  },
  {
   "metadata": {
    "ExecuteTime": {
     "end_time": "2024-12-02T01:54:53.888494Z",
     "start_time": "2024-12-02T01:54:53.880993Z"
    }
   },
   "cell_type": "code",
   "source": [
    "# STEP 3: Make Predictions\n",
    "svr_predictions = svr_model.predict(X_test)"
   ],
   "id": "efd182d7ce672ce8",
   "outputs": [],
   "execution_count": 73
  },
  {
   "metadata": {
    "ExecuteTime": {
     "end_time": "2024-12-02T01:54:53.942037Z",
     "start_time": "2024-12-02T01:54:53.934499Z"
    }
   },
   "cell_type": "code",
   "source": [
    "# STEP 4: Evaluate the SVR Model\n",
    "svr_mae = mean_absolute_error(y_test, svr_predictions)\n",
    "svr_mse = mean_squared_error(y_test, svr_predictions)\n",
    "svr_r2 = r2_score(y_test, svr_predictions)\n"
   ],
   "id": "53d72539c0c210a",
   "outputs": [],
   "execution_count": 74
  },
  {
   "metadata": {
    "ExecuteTime": {
     "end_time": "2024-12-02T01:54:53.986524Z",
     "start_time": "2024-12-02T01:54:53.981668Z"
    }
   },
   "cell_type": "code",
   "source": [
    "# STEP 5: Predict for Abu Dhabi GP\n",
    "abu_dhabi_svr_predictions = svr_model.predict(abu_dhabi_features)"
   ],
   "id": "543cfa19227fa18f",
   "outputs": [],
   "execution_count": 75
  },
  {
   "metadata": {
    "ExecuteTime": {
     "end_time": "2024-12-02T01:54:54.035977Z",
     "start_time": "2024-12-02T01:54:54.026852Z"
    }
   },
   "cell_type": "code",
   "source": [
    "# Save predictions\n",
    "standings_df['svr_predicted_score'] = abu_dhabi_svr_predictions\n",
    "standings_df = standings_df.sort_values(by='svr_predicted_score', ascending=True).reset_index(drop=True)\n",
    "standings_df['svr_predicted_position'] = standings_df.index + 1\n",
    "standings_df.to_csv(\"abu_dhabi_svr_predictions.csv\", index=False)\n",
    "print(\"Saved Abu Dhabi predictions using Support Vector Regression to 'abu_dhabi_svr_predictions.csv'\")"
   ],
   "id": "921b5d9df011af2f",
   "outputs": [
    {
     "name": "stdout",
     "output_type": "stream",
     "text": [
      "Saved Abu Dhabi predictions using Support Vector Regression to 'abu_dhabi_svr_predictions.csv'\n"
     ]
    }
   ],
   "execution_count": 76
  },
  {
   "metadata": {
    "ExecuteTime": {
     "end_time": "2024-12-02T01:54:54.085040Z",
     "start_time": "2024-12-02T01:54:54.074504Z"
    }
   },
   "cell_type": "code",
   "source": [
    "# Display the contents of a CSV file\n",
    "df = pd.read_csv(\"abu_dhabi_predictions.csv\")\n",
    "print(df)  # Print the table as plain text"
   ],
   "id": "ad0a3454bd6c6541",
   "outputs": [
    {
     "name": "stdout",
     "output_type": "stream",
     "text": [
      "          driver_id  position  points  wins     constructor  \\\n",
      "0            norris         2   349.0     3         McLaren   \n",
      "1    max_verstappen         1   429.0     9        Red Bull   \n",
      "2           leclerc         3   341.0     3         Ferrari   \n",
      "3           piastri         4   291.0     2         McLaren   \n",
      "4             sainz         5   272.0     2         Ferrari   \n",
      "5           russell         6   235.0     2        Mercedes   \n",
      "6          hamilton         7   211.0     2        Mercedes   \n",
      "7             perez         8   152.0     0        Red Bull   \n",
      "8            alonso         9    68.0     0    Aston Martin   \n",
      "9        hulkenberg        10    37.0     0    Haas F1 Team   \n",
      "10            gasly        11    36.0     0  Alpine F1 Team   \n",
      "11          tsunoda        12    30.0     0      RB F1 Team   \n",
      "12           stroll        13    24.0     0    Aston Martin   \n",
      "13             ocon        14    23.0     0  Alpine F1 Team   \n",
      "14  kevin_magnussen        15    16.0     0    Haas F1 Team   \n",
      "15        ricciardo        17    12.0     0      RB F1 Team   \n",
      "16          bearman        18     7.0     0         Ferrari   \n",
      "17            albon        16    12.0     0        Williams   \n",
      "18        colapinto        19     5.0     0        Williams   \n",
      "19           lawson        21     4.0     0      RB F1 Team   \n",
      "20             zhou        20     4.0     0          Sauber   \n",
      "21           bottas        22     0.0     0          Sauber   \n",
      "22         sargeant        23     0.0     0        Williams   \n",
      "\n",
      "    constructor_encoded  predicted_score  predicted_position  \n",
      "0                     1             2.65                   1  \n",
      "1                     0             2.74                   2  \n",
      "2                     2             3.06                   3  \n",
      "3                     1             4.24                   4  \n",
      "4                     2             4.70                   5  \n",
      "5                     3             6.22                   6  \n",
      "6                     3             6.67                   7  \n",
      "7                     0             8.05                   8  \n",
      "8                     4            11.17                   9  \n",
      "9                     5            11.79                  10  \n",
      "10                    6            11.79                  11  \n",
      "11                    7            12.81                  12  \n",
      "12                    4            12.85                  13  \n",
      "13                    6            13.73                  14  \n",
      "14                    5            15.19                  15  \n",
      "15                    7            16.67                  16  \n",
      "16                    2            16.87                  17  \n",
      "17                    8            17.26                  18  \n",
      "18                    8            19.66                  19  \n",
      "19                    7            19.97                  20  \n",
      "20                    9            20.32                  21  \n",
      "21                    9            21.97                  22  \n",
      "22                    8            22.23                  23  \n"
     ]
    }
   ],
   "execution_count": 77
  },
  {
   "metadata": {
    "ExecuteTime": {
     "end_time": "2024-12-02T01:54:54.145258Z",
     "start_time": "2024-12-02T01:54:54.140975Z"
    }
   },
   "cell_type": "code",
   "source": [
    "# Print evaluation metrics\n",
    "print(\"=== Support Vector Regression Metrics ===\")\n",
    "print(f\"Mean Absolute Error (MAE): {svr_mae}\")\n",
    "print(f\"Mean Squared Error (MSE): {svr_mse}\")\n",
    "print(f\"R² Score: {svr_r2}\")"
   ],
   "id": "15a5040a539bb83f",
   "outputs": [
    {
     "name": "stdout",
     "output_type": "stream",
     "text": [
      "=== Support Vector Regression Metrics ===\n",
      "Mean Absolute Error (MAE): 4.698112090490458\n",
      "Mean Squared Error (MSE): 30.019888347727893\n",
      "R² Score: 0.16051766365414177\n"
     ]
    }
   ],
   "execution_count": 78
  },
  {
   "metadata": {},
   "cell_type": "markdown",
   "source": "## Neural Network Regression ",
   "id": "cc3147ffeda3c52a"
  },
  {
   "metadata": {
    "ExecuteTime": {
     "end_time": "2024-12-02T01:54:54.213710Z",
     "start_time": "2024-12-02T01:54:54.210599Z"
    }
   },
   "cell_type": "code",
   "source": [
    "from sklearn.neural_network import MLPRegressor\n",
    "from sklearn.preprocessing import StandardScaler\n",
    "from sklearn.pipeline import make_pipeline"
   ],
   "id": "da8b2219c70e81dd",
   "outputs": [],
   "execution_count": 79
  },
  {
   "metadata": {
    "ExecuteTime": {
     "end_time": "2024-12-02T01:54:54.283864Z",
     "start_time": "2024-12-02T01:54:54.280190Z"
    }
   },
   "cell_type": "code",
   "source": [
    "# STEP 1: Scale Features and Initialize MLP Regressor\n",
    "# MLP Regressor works better when data is scaled, so we use StandardScaler\n",
    "mlp_model = make_pipeline(\n",
    "    StandardScaler(),\n",
    "    MLPRegressor(hidden_layer_sizes=(100, 50), max_iter=1000, random_state=42)\n",
    ")"
   ],
   "id": "557a7d2f1035577",
   "outputs": [],
   "execution_count": 80
  },
  {
   "metadata": {
    "ExecuteTime": {
     "end_time": "2024-12-02T01:54:54.368416Z",
     "start_time": "2024-12-02T01:54:54.294427Z"
    }
   },
   "cell_type": "code",
   "source": [
    "# STEP 2: Train the MLP Regressor\n",
    "mlp_model.fit(X_train, y_train)"
   ],
   "id": "bc8e1ce5a248c025",
   "outputs": [
    {
     "data": {
      "text/plain": [
       "Pipeline(steps=[('standardscaler', StandardScaler()),\n",
       "                ('mlpregressor',\n",
       "                 MLPRegressor(hidden_layer_sizes=(100, 50), max_iter=1000,\n",
       "                              random_state=42))])"
      ],
      "text/html": [
       "<style>#sk-container-id-8 {color: black;}#sk-container-id-8 pre{padding: 0;}#sk-container-id-8 div.sk-toggleable {background-color: white;}#sk-container-id-8 label.sk-toggleable__label {cursor: pointer;display: block;width: 100%;margin-bottom: 0;padding: 0.3em;box-sizing: border-box;text-align: center;}#sk-container-id-8 label.sk-toggleable__label-arrow:before {content: \"▸\";float: left;margin-right: 0.25em;color: #696969;}#sk-container-id-8 label.sk-toggleable__label-arrow:hover:before {color: black;}#sk-container-id-8 div.sk-estimator:hover label.sk-toggleable__label-arrow:before {color: black;}#sk-container-id-8 div.sk-toggleable__content {max-height: 0;max-width: 0;overflow: hidden;text-align: left;background-color: #f0f8ff;}#sk-container-id-8 div.sk-toggleable__content pre {margin: 0.2em;color: black;border-radius: 0.25em;background-color: #f0f8ff;}#sk-container-id-8 input.sk-toggleable__control:checked~div.sk-toggleable__content {max-height: 200px;max-width: 100%;overflow: auto;}#sk-container-id-8 input.sk-toggleable__control:checked~label.sk-toggleable__label-arrow:before {content: \"▾\";}#sk-container-id-8 div.sk-estimator input.sk-toggleable__control:checked~label.sk-toggleable__label {background-color: #d4ebff;}#sk-container-id-8 div.sk-label input.sk-toggleable__control:checked~label.sk-toggleable__label {background-color: #d4ebff;}#sk-container-id-8 input.sk-hidden--visually {border: 0;clip: rect(1px 1px 1px 1px);clip: rect(1px, 1px, 1px, 1px);height: 1px;margin: -1px;overflow: hidden;padding: 0;position: absolute;width: 1px;}#sk-container-id-8 div.sk-estimator {font-family: monospace;background-color: #f0f8ff;border: 1px dotted black;border-radius: 0.25em;box-sizing: border-box;margin-bottom: 0.5em;}#sk-container-id-8 div.sk-estimator:hover {background-color: #d4ebff;}#sk-container-id-8 div.sk-parallel-item::after {content: \"\";width: 100%;border-bottom: 1px solid gray;flex-grow: 1;}#sk-container-id-8 div.sk-label:hover label.sk-toggleable__label {background-color: #d4ebff;}#sk-container-id-8 div.sk-serial::before {content: \"\";position: absolute;border-left: 1px solid gray;box-sizing: border-box;top: 0;bottom: 0;left: 50%;z-index: 0;}#sk-container-id-8 div.sk-serial {display: flex;flex-direction: column;align-items: center;background-color: white;padding-right: 0.2em;padding-left: 0.2em;position: relative;}#sk-container-id-8 div.sk-item {position: relative;z-index: 1;}#sk-container-id-8 div.sk-parallel {display: flex;align-items: stretch;justify-content: center;background-color: white;position: relative;}#sk-container-id-8 div.sk-item::before, #sk-container-id-8 div.sk-parallel-item::before {content: \"\";position: absolute;border-left: 1px solid gray;box-sizing: border-box;top: 0;bottom: 0;left: 50%;z-index: -1;}#sk-container-id-8 div.sk-parallel-item {display: flex;flex-direction: column;z-index: 1;position: relative;background-color: white;}#sk-container-id-8 div.sk-parallel-item:first-child::after {align-self: flex-end;width: 50%;}#sk-container-id-8 div.sk-parallel-item:last-child::after {align-self: flex-start;width: 50%;}#sk-container-id-8 div.sk-parallel-item:only-child::after {width: 0;}#sk-container-id-8 div.sk-dashed-wrapped {border: 1px dashed gray;margin: 0 0.4em 0.5em 0.4em;box-sizing: border-box;padding-bottom: 0.4em;background-color: white;}#sk-container-id-8 div.sk-label label {font-family: monospace;font-weight: bold;display: inline-block;line-height: 1.2em;}#sk-container-id-8 div.sk-label-container {text-align: center;}#sk-container-id-8 div.sk-container {/* jupyter's `normalize.less` sets `[hidden] { display: none; }` but bootstrap.min.css set `[hidden] { display: none !important; }` so we also need the `!important` here to be able to override the default hidden behavior on the sphinx rendered scikit-learn.org. See: https://github.com/scikit-learn/scikit-learn/issues/21755 */display: inline-block !important;position: relative;}#sk-container-id-8 div.sk-text-repr-fallback {display: none;}</style><div id=\"sk-container-id-8\" class=\"sk-top-container\"><div class=\"sk-text-repr-fallback\"><pre>Pipeline(steps=[(&#x27;standardscaler&#x27;, StandardScaler()),\n",
       "                (&#x27;mlpregressor&#x27;,\n",
       "                 MLPRegressor(hidden_layer_sizes=(100, 50), max_iter=1000,\n",
       "                              random_state=42))])</pre><b>In a Jupyter environment, please rerun this cell to show the HTML representation or trust the notebook. <br />On GitHub, the HTML representation is unable to render, please try loading this page with nbviewer.org.</b></div><div class=\"sk-container\" hidden><div class=\"sk-item sk-dashed-wrapped\"><div class=\"sk-label-container\"><div class=\"sk-label sk-toggleable\"><input class=\"sk-toggleable__control sk-hidden--visually\" id=\"sk-estimator-id-14\" type=\"checkbox\" ><label for=\"sk-estimator-id-14\" class=\"sk-toggleable__label sk-toggleable__label-arrow\">Pipeline</label><div class=\"sk-toggleable__content\"><pre>Pipeline(steps=[(&#x27;standardscaler&#x27;, StandardScaler()),\n",
       "                (&#x27;mlpregressor&#x27;,\n",
       "                 MLPRegressor(hidden_layer_sizes=(100, 50), max_iter=1000,\n",
       "                              random_state=42))])</pre></div></div></div><div class=\"sk-serial\"><div class=\"sk-item\"><div class=\"sk-estimator sk-toggleable\"><input class=\"sk-toggleable__control sk-hidden--visually\" id=\"sk-estimator-id-15\" type=\"checkbox\" ><label for=\"sk-estimator-id-15\" class=\"sk-toggleable__label sk-toggleable__label-arrow\">StandardScaler</label><div class=\"sk-toggleable__content\"><pre>StandardScaler()</pre></div></div></div><div class=\"sk-item\"><div class=\"sk-estimator sk-toggleable\"><input class=\"sk-toggleable__control sk-hidden--visually\" id=\"sk-estimator-id-16\" type=\"checkbox\" ><label for=\"sk-estimator-id-16\" class=\"sk-toggleable__label sk-toggleable__label-arrow\">MLPRegressor</label><div class=\"sk-toggleable__content\"><pre>MLPRegressor(hidden_layer_sizes=(100, 50), max_iter=1000, random_state=42)</pre></div></div></div></div></div></div></div>"
      ]
     },
     "execution_count": 81,
     "metadata": {},
     "output_type": "execute_result"
    }
   ],
   "execution_count": 81
  },
  {
   "metadata": {
    "ExecuteTime": {
     "end_time": "2024-12-02T01:54:54.409153Z",
     "start_time": "2024-12-02T01:54:54.403504Z"
    }
   },
   "cell_type": "code",
   "source": [
    "# STEP 3: Make Predictions\n",
    "mlp_predictions = mlp_model.predict(X_test)"
   ],
   "id": "96758f7cf8df2889",
   "outputs": [],
   "execution_count": 82
  },
  {
   "metadata": {
    "ExecuteTime": {
     "end_time": "2024-12-02T01:54:54.443891Z",
     "start_time": "2024-12-02T01:54:54.439509Z"
    }
   },
   "cell_type": "code",
   "source": [
    "# STEP 4: Evaluate the MLP Regressor\n",
    "mlp_mae = mean_absolute_error(y_test, mlp_predictions)\n",
    "mlp_mse = mean_squared_error(y_test, mlp_predictions)\n",
    "mlp_r2 = r2_score(y_test, mlp_predictions)"
   ],
   "id": "3e7c34f13d241865",
   "outputs": [],
   "execution_count": 83
  },
  {
   "metadata": {
    "ExecuteTime": {
     "end_time": "2024-12-02T01:54:54.479256Z",
     "start_time": "2024-12-02T01:54:54.474419Z"
    }
   },
   "cell_type": "code",
   "source": [
    "# STEP 5: Predict for Abu Dhabi GP\n",
    "abu_dhabi_mlp_predictions = mlp_model.predict(abu_dhabi_features)"
   ],
   "id": "ecce11501d6ee924",
   "outputs": [],
   "execution_count": 84
  },
  {
   "metadata": {
    "ExecuteTime": {
     "end_time": "2024-12-02T01:54:54.526397Z",
     "start_time": "2024-12-02T01:54:54.519655Z"
    }
   },
   "cell_type": "code",
   "source": [
    "# Save predictions\n",
    "standings_df['mlp_predicted_score'] = abu_dhabi_mlp_predictions\n",
    "standings_df = standings_df.sort_values(by='mlp_predicted_score', ascending=True).reset_index(drop=True)\n",
    "standings_df['mlp_predicted_position'] = standings_df.index + 1\n",
    "standings_df.to_csv(\"abu_dhabi_mlp_predictions.csv\", index=False)\n",
    "print(\"Saved Abu Dhabi predictions using Neural Network (MLP) to 'abu_dhabi_mlp_predictions.csv'\")"
   ],
   "id": "f736169bd346a46c",
   "outputs": [
    {
     "name": "stdout",
     "output_type": "stream",
     "text": [
      "Saved Abu Dhabi predictions using Neural Network (MLP) to 'abu_dhabi_mlp_predictions.csv'\n"
     ]
    }
   ],
   "execution_count": 85
  },
  {
   "metadata": {
    "ExecuteTime": {
     "end_time": "2024-12-02T01:54:54.614091Z",
     "start_time": "2024-12-02T01:54:54.602806Z"
    }
   },
   "cell_type": "code",
   "source": [
    "# Display the contents of a CSV file\n",
    "df = pd.read_csv(\"abu_dhabi_predictions.csv\")\n",
    "print(df)  # Print the table as plain text"
   ],
   "id": "899a174e9d6a2f5",
   "outputs": [
    {
     "name": "stdout",
     "output_type": "stream",
     "text": [
      "          driver_id  position  points  wins     constructor  \\\n",
      "0            norris         2   349.0     3         McLaren   \n",
      "1    max_verstappen         1   429.0     9        Red Bull   \n",
      "2           leclerc         3   341.0     3         Ferrari   \n",
      "3           piastri         4   291.0     2         McLaren   \n",
      "4             sainz         5   272.0     2         Ferrari   \n",
      "5           russell         6   235.0     2        Mercedes   \n",
      "6          hamilton         7   211.0     2        Mercedes   \n",
      "7             perez         8   152.0     0        Red Bull   \n",
      "8            alonso         9    68.0     0    Aston Martin   \n",
      "9        hulkenberg        10    37.0     0    Haas F1 Team   \n",
      "10            gasly        11    36.0     0  Alpine F1 Team   \n",
      "11          tsunoda        12    30.0     0      RB F1 Team   \n",
      "12           stroll        13    24.0     0    Aston Martin   \n",
      "13             ocon        14    23.0     0  Alpine F1 Team   \n",
      "14  kevin_magnussen        15    16.0     0    Haas F1 Team   \n",
      "15        ricciardo        17    12.0     0      RB F1 Team   \n",
      "16          bearman        18     7.0     0         Ferrari   \n",
      "17            albon        16    12.0     0        Williams   \n",
      "18        colapinto        19     5.0     0        Williams   \n",
      "19           lawson        21     4.0     0      RB F1 Team   \n",
      "20             zhou        20     4.0     0          Sauber   \n",
      "21           bottas        22     0.0     0          Sauber   \n",
      "22         sargeant        23     0.0     0        Williams   \n",
      "\n",
      "    constructor_encoded  predicted_score  predicted_position  \n",
      "0                     1             2.65                   1  \n",
      "1                     0             2.74                   2  \n",
      "2                     2             3.06                   3  \n",
      "3                     1             4.24                   4  \n",
      "4                     2             4.70                   5  \n",
      "5                     3             6.22                   6  \n",
      "6                     3             6.67                   7  \n",
      "7                     0             8.05                   8  \n",
      "8                     4            11.17                   9  \n",
      "9                     5            11.79                  10  \n",
      "10                    6            11.79                  11  \n",
      "11                    7            12.81                  12  \n",
      "12                    4            12.85                  13  \n",
      "13                    6            13.73                  14  \n",
      "14                    5            15.19                  15  \n",
      "15                    7            16.67                  16  \n",
      "16                    2            16.87                  17  \n",
      "17                    8            17.26                  18  \n",
      "18                    8            19.66                  19  \n",
      "19                    7            19.97                  20  \n",
      "20                    9            20.32                  21  \n",
      "21                    9            21.97                  22  \n",
      "22                    8            22.23                  23  \n"
     ]
    }
   ],
   "execution_count": 86
  },
  {
   "metadata": {
    "ExecuteTime": {
     "end_time": "2024-12-02T01:54:54.682570Z",
     "start_time": "2024-12-02T01:54:54.679489Z"
    }
   },
   "cell_type": "code",
   "source": [
    "# Print evaluation metrics\n",
    "print(\"=== Neural Network (MLP Regressor) Metrics ===\")\n",
    "print(f\"Mean Absolute Error (MAE): {mlp_mae}\")\n",
    "print(f\"Mean Squared Error (MSE): {mlp_mse}\")\n",
    "print(f\"R² Score: {mlp_r2}\")"
   ],
   "id": "c4d0da2fd23bd0ac",
   "outputs": [
    {
     "name": "stdout",
     "output_type": "stream",
     "text": [
      "=== Neural Network (MLP Regressor) Metrics ===\n",
      "Mean Absolute Error (MAE): 4.550938699565668\n",
      "Mean Squared Error (MSE): 23.393796616247755\n",
      "R² Score: 0.34581105659262434\n"
     ]
    }
   ],
   "execution_count": 87
  },
  {
   "metadata": {},
   "cell_type": "markdown",
   "source": "## Linear Regression\n",
   "id": "dec42fa4bbee748f"
  },
  {
   "metadata": {
    "ExecuteTime": {
     "end_time": "2024-12-02T01:54:54.772749Z",
     "start_time": "2024-12-02T01:54:54.751735Z"
    }
   },
   "cell_type": "code",
   "source": [
    "from sklearn.linear_model import LinearRegression\n",
    "\n",
    "# STEP 1: Initialize Linear Regression\n",
    "linear_model = LinearRegression()\n",
    "\n",
    "# STEP 2: Train the Linear Regression Model\n",
    "linear_model.fit(X_train, y_train)\n",
    "\n",
    "# STEP 3: Make Predictions\n",
    "linear_predictions = linear_model.predict(X_test)\n",
    "\n",
    "# STEP 4: Evaluate the Linear Regression Model\n",
    "linear_mae = mean_absolute_error(y_test, linear_predictions)\n",
    "linear_mse = mean_squared_error(y_test, linear_predictions)\n",
    "linear_r2 = r2_score(y_test, linear_predictions)\n",
    "\n",
    "# Print evaluation metrics\n",
    "print(\"=== Linear Regression Metrics ===\")\n",
    "print(f\"Mean Absolute Error (MAE): {linear_mae}\")\n",
    "print(f\"Mean Squared Error (MSE): {linear_mse}\")\n",
    "print(f\"R² Score: {linear_r2}\")\n",
    "\n",
    "# STEP 5: Predict for Abu Dhabi GP\n",
    "abu_dhabi_linear_predictions = linear_model.predict(abu_dhabi_features)\n",
    "\n",
    "# Save predictions\n",
    "standings_df['linear_predicted_score'] = abu_dhabi_linear_predictions\n",
    "standings_df = standings_df.sort_values(by='linear_predicted_score', ascending=True).reset_index(drop=True)\n",
    "standings_df['linear_predicted_position'] = standings_df.index + 1\n",
    "standings_df.to_csv(\"abu_dhabi_linear_predictions.csv\", index=False)\n",
    "print(\"Saved Abu Dhabi predictions using Linear Regression to 'abu_dhabi_linear_predictions.csv'\")\n"
   ],
   "id": "deeeebd028340667",
   "outputs": [
    {
     "name": "stdout",
     "output_type": "stream",
     "text": [
      "=== Linear Regression Metrics ===\n",
      "Mean Absolute Error (MAE): 4.680813899254431\n",
      "Mean Squared Error (MSE): 24.427430835621408\n",
      "R² Score: 0.3169062965430256\n",
      "Saved Abu Dhabi predictions using Linear Regression to 'abu_dhabi_linear_predictions.csv'\n"
     ]
    }
   ],
   "execution_count": 88
  },
  {
   "metadata": {
    "ExecuteTime": {
     "end_time": "2024-12-02T01:54:54.818875Z",
     "start_time": "2024-12-02T01:54:54.810753Z"
    }
   },
   "cell_type": "code",
   "source": [
    "# Display the contents of a CSV file\n",
    "df = pd.read_csv(\"abu_dhabi_predictions.csv\")\n",
    "print(df)  # Print the table as plain text"
   ],
   "id": "34fce38795ba854e",
   "outputs": [
    {
     "name": "stdout",
     "output_type": "stream",
     "text": [
      "          driver_id  position  points  wins     constructor  \\\n",
      "0            norris         2   349.0     3         McLaren   \n",
      "1    max_verstappen         1   429.0     9        Red Bull   \n",
      "2           leclerc         3   341.0     3         Ferrari   \n",
      "3           piastri         4   291.0     2         McLaren   \n",
      "4             sainz         5   272.0     2         Ferrari   \n",
      "5           russell         6   235.0     2        Mercedes   \n",
      "6          hamilton         7   211.0     2        Mercedes   \n",
      "7             perez         8   152.0     0        Red Bull   \n",
      "8            alonso         9    68.0     0    Aston Martin   \n",
      "9        hulkenberg        10    37.0     0    Haas F1 Team   \n",
      "10            gasly        11    36.0     0  Alpine F1 Team   \n",
      "11          tsunoda        12    30.0     0      RB F1 Team   \n",
      "12           stroll        13    24.0     0    Aston Martin   \n",
      "13             ocon        14    23.0     0  Alpine F1 Team   \n",
      "14  kevin_magnussen        15    16.0     0    Haas F1 Team   \n",
      "15        ricciardo        17    12.0     0      RB F1 Team   \n",
      "16          bearman        18     7.0     0         Ferrari   \n",
      "17            albon        16    12.0     0        Williams   \n",
      "18        colapinto        19     5.0     0        Williams   \n",
      "19           lawson        21     4.0     0      RB F1 Team   \n",
      "20             zhou        20     4.0     0          Sauber   \n",
      "21           bottas        22     0.0     0          Sauber   \n",
      "22         sargeant        23     0.0     0        Williams   \n",
      "\n",
      "    constructor_encoded  predicted_score  predicted_position  \n",
      "0                     1             2.65                   1  \n",
      "1                     0             2.74                   2  \n",
      "2                     2             3.06                   3  \n",
      "3                     1             4.24                   4  \n",
      "4                     2             4.70                   5  \n",
      "5                     3             6.22                   6  \n",
      "6                     3             6.67                   7  \n",
      "7                     0             8.05                   8  \n",
      "8                     4            11.17                   9  \n",
      "9                     5            11.79                  10  \n",
      "10                    6            11.79                  11  \n",
      "11                    7            12.81                  12  \n",
      "12                    4            12.85                  13  \n",
      "13                    6            13.73                  14  \n",
      "14                    5            15.19                  15  \n",
      "15                    7            16.67                  16  \n",
      "16                    2            16.87                  17  \n",
      "17                    8            17.26                  18  \n",
      "18                    8            19.66                  19  \n",
      "19                    7            19.97                  20  \n",
      "20                    9            20.32                  21  \n",
      "21                    9            21.97                  22  \n",
      "22                    8            22.23                  23  \n"
     ]
    }
   ],
   "execution_count": 89
  },
  {
   "metadata": {},
   "cell_type": "markdown",
   "source": "## K- Nearest Neighbour ",
   "id": "c78b2144c024ac6b"
  },
  {
   "metadata": {
    "ExecuteTime": {
     "end_time": "2024-12-02T01:54:54.909184Z",
     "start_time": "2024-12-02T01:54:54.889404Z"
    }
   },
   "cell_type": "code",
   "source": [
    "from sklearn.neighbors import KNeighborsRegressor\n",
    "\n",
    "# STEP 1: Initialize KNN Regressor\n",
    "knn_model = KNeighborsRegressor(n_neighbors=5, weights='distance')\n",
    "\n",
    "# STEP 2: Train the KNN Regressor\n",
    "knn_model.fit(X_train, y_train)\n",
    "\n",
    "# STEP 3: Make Predictions\n",
    "knn_predictions = knn_model.predict(X_test)\n",
    "\n",
    "# STEP 4: Evaluate the KNN Regressor\n",
    "knn_mae = mean_absolute_error(y_test, knn_predictions)\n",
    "knn_mse = mean_squared_error(y_test, knn_predictions)\n",
    "knn_r2 = r2_score(y_test, knn_predictions)\n",
    "\n",
    "# Print evaluation metrics\n",
    "print(\"=== K-Nearest Neighbors (KNN) Metrics ===\")\n",
    "print(f\"Mean Absolute Error (MAE): {knn_mae}\")\n",
    "print(f\"Mean Squared Error (MSE): {knn_mse}\")\n",
    "print(f\"R² Score: {knn_r2}\")\n",
    "\n",
    "# STEP 5: Predict for Abu Dhabi GP\n",
    "abu_dhabi_knn_predictions = knn_model.predict(abu_dhabi_features)\n",
    "\n",
    "# Save predictions\n",
    "standings_df['knn_predicted_score'] = abu_dhabi_knn_predictions\n",
    "standings_df = standings_df.sort_values(by='knn_predicted_score', ascending=True).reset_index(drop=True)\n",
    "standings_df['knn_predicted_position'] = standings_df.index + 1\n",
    "standings_df.to_csv(\"abu_dhabi_knn_predictions.csv\", index=False)\n",
    "print(\"Saved Abu Dhabi predictions using KNN to 'abu_dhabi_knn_predictions.csv'\")\n"
   ],
   "id": "68576516f8388ba1",
   "outputs": [
    {
     "name": "stdout",
     "output_type": "stream",
     "text": [
      "=== K-Nearest Neighbors (KNN) Metrics ===\n",
      "Mean Absolute Error (MAE): 2.266259571392093\n",
      "Mean Squared Error (MSE): 5.830097994283284\n",
      "R² Score: 0.8369659397571789\n",
      "Saved Abu Dhabi predictions using KNN to 'abu_dhabi_knn_predictions.csv'\n"
     ]
    }
   ],
   "execution_count": 90
  },
  {
   "metadata": {
    "ExecuteTime": {
     "end_time": "2024-12-02T01:54:54.948399Z",
     "start_time": "2024-12-02T01:54:54.937808Z"
    }
   },
   "cell_type": "code",
   "source": [
    "# Display the contents of a CSV file\n",
    "df = pd.read_csv(\"abu_dhabi_predictions.csv\")\n",
    "print(df)  # Print the table as plain text"
   ],
   "id": "fa8da73d8cef0b23",
   "outputs": [
    {
     "name": "stdout",
     "output_type": "stream",
     "text": [
      "          driver_id  position  points  wins     constructor  \\\n",
      "0            norris         2   349.0     3         McLaren   \n",
      "1    max_verstappen         1   429.0     9        Red Bull   \n",
      "2           leclerc         3   341.0     3         Ferrari   \n",
      "3           piastri         4   291.0     2         McLaren   \n",
      "4             sainz         5   272.0     2         Ferrari   \n",
      "5           russell         6   235.0     2        Mercedes   \n",
      "6          hamilton         7   211.0     2        Mercedes   \n",
      "7             perez         8   152.0     0        Red Bull   \n",
      "8            alonso         9    68.0     0    Aston Martin   \n",
      "9        hulkenberg        10    37.0     0    Haas F1 Team   \n",
      "10            gasly        11    36.0     0  Alpine F1 Team   \n",
      "11          tsunoda        12    30.0     0      RB F1 Team   \n",
      "12           stroll        13    24.0     0    Aston Martin   \n",
      "13             ocon        14    23.0     0  Alpine F1 Team   \n",
      "14  kevin_magnussen        15    16.0     0    Haas F1 Team   \n",
      "15        ricciardo        17    12.0     0      RB F1 Team   \n",
      "16          bearman        18     7.0     0         Ferrari   \n",
      "17            albon        16    12.0     0        Williams   \n",
      "18        colapinto        19     5.0     0        Williams   \n",
      "19           lawson        21     4.0     0      RB F1 Team   \n",
      "20             zhou        20     4.0     0          Sauber   \n",
      "21           bottas        22     0.0     0          Sauber   \n",
      "22         sargeant        23     0.0     0        Williams   \n",
      "\n",
      "    constructor_encoded  predicted_score  predicted_position  \n",
      "0                     1             2.65                   1  \n",
      "1                     0             2.74                   2  \n",
      "2                     2             3.06                   3  \n",
      "3                     1             4.24                   4  \n",
      "4                     2             4.70                   5  \n",
      "5                     3             6.22                   6  \n",
      "6                     3             6.67                   7  \n",
      "7                     0             8.05                   8  \n",
      "8                     4            11.17                   9  \n",
      "9                     5            11.79                  10  \n",
      "10                    6            11.79                  11  \n",
      "11                    7            12.81                  12  \n",
      "12                    4            12.85                  13  \n",
      "13                    6            13.73                  14  \n",
      "14                    5            15.19                  15  \n",
      "15                    7            16.67                  16  \n",
      "16                    2            16.87                  17  \n",
      "17                    8            17.26                  18  \n",
      "18                    8            19.66                  19  \n",
      "19                    7            19.97                  20  \n",
      "20                    9            20.32                  21  \n",
      "21                    9            21.97                  22  \n",
      "22                    8            22.23                  23  \n"
     ]
    }
   ],
   "execution_count": 91
  },
  {
   "metadata": {},
   "cell_type": "markdown",
   "source": "## Comparision of the Models",
   "id": "108a2a52145c6c79"
  },
  {
   "metadata": {
    "ExecuteTime": {
     "end_time": "2024-12-02T01:56:42.393617Z",
     "start_time": "2024-12-02T01:56:41.701410Z"
    }
   },
   "cell_type": "code",
   "source": [
    "import matplotlib.pyplot as plt\n",
    "import seaborn as sns\n",
    "import pandas as pd\n",
    "\n",
    "# Collect evaluation metrics for all models\n",
    "metrics_data = {\n",
    "    'Model': [\n",
    "        'Random Forest',\n",
    "        'Gradient Boosting',\n",
    "        'SVR',\n",
    "        'Neural Network',\n",
    "        'K-Nearest Neighbors',\n",
    "        'Linear Regression'\n",
    "    ],\n",
    "    'MAE': [mae, gb_mae, svr_mae, mlp_mae, knn_mae, linear_mae],\n",
    "    'MSE': [mse, gb_mse, svr_mse, mlp_mse, knn_mse, linear_mse],\n",
    "    'R2 Score': [r2, gb_r2, svr_r2, mlp_r2, knn_r2, linear_r2]\n",
    "}\n",
    "\n",
    "# Convert metrics data to a DataFrame for visualization\n",
    "metrics_df = pd.DataFrame(metrics_data)\n",
    "\n",
    "# Plot Mean Absolute Error (MAE)\n",
    "plt.figure(figsize=(12, 6))\n",
    "sns.barplot(x='Model', y='MAE', data=metrics_df, palette='viridis')\n",
    "plt.title('Comparison of Models: Mean Absolute Error (MAE)')\n",
    "plt.ylabel('MAE')\n",
    "plt.xlabel('Model')\n",
    "plt.tight_layout()\n",
    "plt.show()\n",
    "\n",
    "# Plot Mean Squared Error (MSE)\n",
    "plt.figure(figsize=(12, 6))\n",
    "sns.barplot(x='Model', y='MSE', data=metrics_df, palette='coolwarm')\n",
    "plt.title('Comparison of Models: Mean Squared Error (MSE)')\n",
    "plt.ylabel('MSE')\n",
    "plt.xlabel('Model')\n",
    "plt.tight_layout()\n",
    "plt.show()\n",
    "\n",
    "# Plot R2 Score\n",
    "plt.figure(figsize=(12, 6))\n",
    "sns.barplot(x='Model', y='R2 Score', data=metrics_df, palette='rocket')\n",
    "plt.title('Comparison of Models: R² Score')\n",
    "plt.ylabel('R² Score')\n",
    "plt.xlabel('Model')\n",
    "plt.tight_layout()\n",
    "plt.show()\n"
   ],
   "id": "999a318f7b4be5bf",
   "outputs": [
    {
     "name": "stderr",
     "output_type": "stream",
     "text": [
      "/var/folders/94/m0bs_x_s1hq990qf86vc0qkm0000gn/T/ipykernel_6196/1783263428.py:25: FutureWarning: \n",
      "\n",
      "Passing `palette` without assigning `hue` is deprecated and will be removed in v0.14.0. Assign the `x` variable to `hue` and set `legend=False` for the same effect.\n",
      "\n",
      "  sns.barplot(x='Model', y='MAE', data=metrics_df, palette='viridis')\n"
     ]
    },
    {
     "data": {
      "text/plain": [
       "<Figure size 1200x600 with 1 Axes>"
      ],
      "image/png": "[encoded data removed]"
     },
     "metadata": {},
     "output_type": "display_data"
    },
    {
     "name": "stderr",
     "output_type": "stream",
     "text": [
      "/var/folders/94/m0bs_x_s1hq990qf86vc0qkm0000gn/T/ipykernel_6196/1783263428.py:34: FutureWarning: \n",
      "\n",
      "Passing `palette` without assigning `hue` is deprecated and will be removed in v0.14.0. Assign the `x` variable to `hue` and set `legend=False` for the same effect.\n",
      "\n",
      "  sns.barplot(x='Model', y='MSE', data=metrics_df, palette='coolwarm')\n"
     ]
    },
    {
     "data": {
      "text/plain": [
       "<Figure size 1200x600 with 1 Axes>"
      ],
      "image/png": "[encoded data removed]"
     },
     "metadata": {},
     "output_type": "display_data"
    },
    {
     "name": "stderr",
     "output_type": "stream",
     "text": [
      "/var/folders/94/m0bs_x_s1hq990qf86vc0qkm0000gn/T/ipykernel_6196/1783263428.py:43: FutureWarning: \n",
      "\n",
      "Passing `palette` without assigning `hue` is deprecated and will be removed in v0.14.0. Assign the `x` variable to `hue` and set `legend=False` for the same effect.\n",
      "\n",
      "  sns.barplot(x='Model', y='R2 Score', data=metrics_df, palette='rocket')\n"
     ]
    },
    {
     "data": {
      "text/plain": [
       "<Figure size 1200x600 with 1 Axes>"
      ],
      "image/png": "[encoded data removed]"
     },
     "metadata": {},
     "output_type": "display_data"
    }
   ],
   "execution_count": 93
  },
  {
   "metadata": {
    "ExecuteTime": {
     "end_time": "2024-12-02T01:54:55.567871Z",
     "start_time": "2024-12-02T01:54:55.565804Z"
    }
   },
   "cell_type": "code",
   "source": "",
   "id": "55eea06c3b9b480c",
   "outputs": [],
   "execution_count": null
  }
 ],
 "metadata": {
  "kernelspec": {
   "display_name": "Python 3",
   "language": "python",
   "name": "python3"
  },
  "language_info": {
   "codemirror_mode": {
    "name": "ipython",
    "version": 2
   },
   "file_extension": ".py",
   "mimetype": "text/x-python",
   "name": "python",
   "nbconvert_exporter": "python",
   "pygments_lexer": "ipython2",
   "version": "2.7.6"
  }
 },
 "nbformat": 4,
 "nbformat_minor": 5
}
